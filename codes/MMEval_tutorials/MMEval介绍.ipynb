{
 "cells": [
  {
   "cell_type": "markdown",
   "id": "08bbcd73",
   "metadata": {},
   "source": [
    "# 1. MMEval 简介\n",
    "\n",
    "MMEval 是一个统一的跨框架算法评测库，提供高效准确的分布式评测以及多种机器学习框架后端支持，具有以下特点：\n",
    "\n",
    "- 提供丰富的计算机视觉各细分方向评测指标（自然语言处理方向的评测指标正在支持中）\n",
    "\n",
    "- 支持多种分布式通信库，实现高效准确的分布式评测。\n",
    "\n",
    "- 支持多种机器学习框架，根据输入自动分发对应实现。\n",
    "\n",
    "GitHub 主页：https://github.com/open-mmlab/mmeval  \n",
    "MMEval 中文文档：https://mmeval.readthedocs.io/zh_CN/latest/\n",
    "\n",
    "更多相关资料：\n",
    "- MMEval 发布介绍文章：https://zhuanlan.zhihu.com/p/579074667\n",
    "- MMEval 与其它开源算法评测库的区别与定位：https://www.zhihu.com/question/565197712/answer/2749256174"
   ]
  },
  {
   "cell_type": "markdown",
   "id": "715453c6",
   "metadata": {},
   "source": [
    "# 2. MMEval 安装\n",
    "\n",
    "MMEval 依赖 Python 3.6+，可以通过 pip 来安装 MMEval：\n",
    "```bash\n",
    "pip install mmeval\n",
    "```\n",
    "\n",
    "如果要安装 MMEval 中所有评测指标都需要的依赖，可以通过以下命令安装所有的额外依赖：\n",
    "```bash\n",
    "pip install \"mmeval[all]\"\n",
    "```"
   ]
  },
  {
   "cell_type": "code",
   "execution_count": 1,
   "id": "fccf14cb",
   "metadata": {},
   "outputs": [
    {
     "name": "stdout",
     "output_type": "stream",
     "text": [
      "Looking in indexes: https://pypi.tuna.tsinghua.edu.cn/simple\r\n",
      "Requirement already satisfied: mmeval in /nvme/data/xiaoyancong/miniconda3/envs/mmeval/lib/python3.8/site-packages (0.1.0)\r\n",
      "Requirement already satisfied: numpy in /nvme/data/xiaoyancong/miniconda3/envs/mmeval/lib/python3.8/site-packages (from mmeval) (1.23.3)\r\n",
      "Requirement already satisfied: pyyaml in /nvme/data/xiaoyancong/miniconda3/envs/mmeval/lib/python3.8/site-packages (from mmeval) (6.0)\r\n",
      "Requirement already satisfied: plum-dispatch in /nvme/data/xiaoyancong/miniconda3/envs/mmeval/lib/python3.8/site-packages (from mmeval) (1.7.2)\r\n"
     ]
    }
   ],
   "source": [
    "!pip install mmeval"
   ]
  },
  {
   "cell_type": "markdown",
   "id": "b798ffe9",
   "metadata": {},
   "source": [
    "# 3. MMEval 简单使用"
   ]
  },
  {
   "cell_type": "markdown",
   "id": "6bb08279",
   "metadata": {},
   "source": [
    "MMEval 中的评测指标提供两种使用方式，以 Accuracy 为例："
   ]
  },
  {
   "cell_type": "code",
   "execution_count": 2,
   "id": "cc16d992",
   "metadata": {},
   "outputs": [
    {
     "name": "stderr",
     "output_type": "stream",
     "text": [
      "2022-11-16 21:54:21.713877: I tensorflow/stream_executor/platform/default/dso_loader.cc:49] Successfully opened dynamic library libcudart.so.11.0\n"
     ]
    }
   ],
   "source": [
    "from mmeval import Accuracy\n",
    "import numpy as np\n",
    "\n",
    "accuracy = Accuracy()"
   ]
  },
  {
   "cell_type": "markdown",
   "id": "34044934",
   "metadata": {},
   "source": [
    "第一种是直接调用实例化的 Accuracy 对象，计算评测指标："
   ]
  },
  {
   "cell_type": "code",
   "execution_count": 3,
   "id": "6c6cd1a0",
   "metadata": {},
   "outputs": [
    {
     "data": {
      "text/plain": [
       "{'top1': 0.5}"
      ]
     },
     "execution_count": 3,
     "metadata": {},
     "output_type": "execute_result"
    }
   ],
   "source": [
    "preds = np.asarray([0, 2, 1, 3])\n",
    "labels = np.asarray([0, 1, 2, 3])\n",
    "accuracy(preds, labels)\n",
    "# {'top1': 0.5}"
   ]
  },
  {
   "cell_type": "markdown",
   "id": "55526b9a",
   "metadata": {},
   "source": [
    "第二种是累积多个批次的数据后，计算评测指标："
   ]
  },
  {
   "cell_type": "code",
   "execution_count": 4,
   "id": "4459d4f0",
   "metadata": {},
   "outputs": [
    {
     "data": {
      "text/plain": [
       "{'top1': 0.218}"
      ]
     },
     "execution_count": 4,
     "metadata": {},
     "output_type": "execute_result"
    }
   ],
   "source": [
    "for i in range(10):\n",
    "    labels = np.random.randint(0, 4, size=(100, ))\n",
    "    predicts = np.random.randint(0, 4, size=(100, ))\n",
    "    accuracy.add(predicts, labels)\n",
    "\n",
    "accuracy.compute()\n",
    "# {'top1': ...}"
   ]
  },
  {
   "cell_type": "markdown",
   "id": "6a07db5a",
   "metadata": {},
   "source": [
    "## 4. 多框架支持"
   ]
  },
  {
   "cell_type": "markdown",
   "id": "2c3a477b",
   "metadata": {},
   "source": [
    "MMEval 中的一些评测指标支持接收不同机器学习框架对应的数据类型（如 Tensor）进行计算，以 Accuracy 为例"
   ]
  },
  {
   "cell_type": "code",
   "execution_count": 5,
   "id": "b9f4839d",
   "metadata": {},
   "outputs": [],
   "source": [
    "from mmeval import Accuracy\n",
    "\n",
    "accuracy = Accuracy()"
   ]
  },
  {
   "cell_type": "markdown",
   "id": "7d5db419",
   "metadata": {},
   "source": [
    "使用 NumPy 数组进行计算："
   ]
  },
  {
   "cell_type": "code",
   "execution_count": 6,
   "id": "ba51045f",
   "metadata": {},
   "outputs": [
    {
     "data": {
      "text/plain": [
       "{'top1': 0.5}"
      ]
     },
     "execution_count": 6,
     "metadata": {},
     "output_type": "execute_result"
    }
   ],
   "source": [
    "import numpy as np\n",
    "\n",
    "labels = np.asarray([0, 1, 2, 3])\n",
    "preds = np.asarray([0, 2, 1, 3])\n",
    "accuracy(preds, labels)"
   ]
  },
  {
   "cell_type": "markdown",
   "id": "4f80e3d8",
   "metadata": {},
   "source": [
    "使用 torch.Tensor 进行计算："
   ]
  },
  {
   "cell_type": "code",
   "execution_count": 7,
   "id": "a2092b76",
   "metadata": {},
   "outputs": [
    {
     "data": {
      "text/plain": [
       "{'top1': 0.5}"
      ]
     },
     "execution_count": 7,
     "metadata": {},
     "output_type": "execute_result"
    }
   ],
   "source": [
    "import torch\n",
    "\n",
    "labels = torch.Tensor([0, 1, 2, 3])\n",
    "preds = torch.Tensor([0, 2, 1, 3])\n",
    "accuracy(preds, labels)"
   ]
  },
  {
   "cell_type": "markdown",
   "id": "c7223456",
   "metadata": {},
   "source": [
    "使用 tensorflow.Tensor 进行计算："
   ]
  },
  {
   "cell_type": "code",
   "execution_count": 8,
   "id": "d54f474f",
   "metadata": {},
   "outputs": [
    {
     "name": "stderr",
     "output_type": "stream",
     "text": [
      "2022-11-16 21:55:40.462162: I tensorflow/compiler/jit/xla_cpu_device.cc:41] Not creating XLA devices, tf_xla_enable_xla_devices not set\n",
      "2022-11-16 21:55:40.462301: I tensorflow/stream_executor/platform/default/dso_loader.cc:49] Successfully opened dynamic library libcuda.so.1\n",
      "2022-11-16 21:55:40.623373: I tensorflow/core/common_runtime/gpu/gpu_device.cc:1720] Found device 0 with properties: \n",
      "pciBusID: 0000:26:00.0 name: NVIDIA A100-SXM4-80GB computeCapability: 8.0\n",
      "coreClock: 1.41GHz coreCount: 108 deviceMemorySize: 79.21GiB deviceMemoryBandwidth: 1.85TiB/s\n",
      "2022-11-16 21:55:40.625176: I tensorflow/core/common_runtime/gpu/gpu_device.cc:1720] Found device 1 with properties: \n",
      "pciBusID: 0000:2c:00.0 name: NVIDIA A100-SXM4-80GB computeCapability: 8.0\n",
      "coreClock: 1.41GHz coreCount: 108 deviceMemorySize: 79.21GiB deviceMemoryBandwidth: 1.85TiB/s\n",
      "2022-11-16 21:55:40.626921: I tensorflow/core/common_runtime/gpu/gpu_device.cc:1720] Found device 2 with properties: \n",
      "pciBusID: 0000:65:00.0 name: NVIDIA A100-SXM4-80GB computeCapability: 8.0\n",
      "coreClock: 1.41GHz coreCount: 108 deviceMemorySize: 79.21GiB deviceMemoryBandwidth: 1.85TiB/s\n",
      "2022-11-16 21:55:40.628668: I tensorflow/core/common_runtime/gpu/gpu_device.cc:1720] Found device 3 with properties: \n",
      "pciBusID: 0000:6a:00.0 name: NVIDIA A100-SXM4-80GB computeCapability: 8.0\n",
      "coreClock: 1.41GHz coreCount: 108 deviceMemorySize: 79.21GiB deviceMemoryBandwidth: 1.85TiB/s\n",
      "2022-11-16 21:55:40.630422: I tensorflow/core/common_runtime/gpu/gpu_device.cc:1720] Found device 4 with properties: \n",
      "pciBusID: 0000:a3:00.0 name: NVIDIA A100-SXM4-80GB computeCapability: 8.0\n",
      "coreClock: 1.41GHz coreCount: 108 deviceMemorySize: 79.21GiB deviceMemoryBandwidth: 1.85TiB/s\n",
      "2022-11-16 21:55:40.632176: I tensorflow/core/common_runtime/gpu/gpu_device.cc:1720] Found device 5 with properties: \n",
      "pciBusID: 0000:a8:00.0 name: NVIDIA A100-SXM4-80GB computeCapability: 8.0\n",
      "coreClock: 1.41GHz coreCount: 108 deviceMemorySize: 79.21GiB deviceMemoryBandwidth: 1.85TiB/s\n",
      "2022-11-16 21:55:40.633915: I tensorflow/core/common_runtime/gpu/gpu_device.cc:1720] Found device 6 with properties: \n",
      "pciBusID: 0000:e1:00.0 name: NVIDIA A100-SXM4-80GB computeCapability: 8.0\n",
      "coreClock: 1.41GHz coreCount: 108 deviceMemorySize: 79.21GiB deviceMemoryBandwidth: 1.85TiB/s\n",
      "2022-11-16 21:55:40.635657: I tensorflow/core/common_runtime/gpu/gpu_device.cc:1720] Found device 7 with properties: \n",
      "pciBusID: 0000:e7:00.0 name: NVIDIA A100-SXM4-80GB computeCapability: 8.0\n",
      "coreClock: 1.41GHz coreCount: 108 deviceMemorySize: 79.21GiB deviceMemoryBandwidth: 1.85TiB/s\n",
      "2022-11-16 21:55:40.635681: I tensorflow/stream_executor/platform/default/dso_loader.cc:49] Successfully opened dynamic library libcudart.so.11.0\n",
      "2022-11-16 21:55:40.635709: I tensorflow/stream_executor/platform/default/dso_loader.cc:49] Successfully opened dynamic library libcublas.so.11\n",
      "2022-11-16 21:55:40.635726: I tensorflow/stream_executor/platform/default/dso_loader.cc:49] Successfully opened dynamic library libcublasLt.so.11\n",
      "2022-11-16 21:55:40.635744: I tensorflow/stream_executor/platform/default/dso_loader.cc:49] Successfully opened dynamic library libcufft.so.10\n",
      "2022-11-16 21:55:40.635763: I tensorflow/stream_executor/platform/default/dso_loader.cc:49] Successfully opened dynamic library libcurand.so.10\n",
      "2022-11-16 21:55:40.635877: W tensorflow/stream_executor/platform/default/dso_loader.cc:60] Could not load dynamic library 'libcusolver.so.10'; dlerror: libcusolver.so.10: cannot open shared object file: No such file or directory; LD_LIBRARY_PATH: /nvme/data/xiaoyancong/miniconda3/envs/mmeval/lib/python3.8/site-packages/cv2/../../lib64:/usr/local/cuda-11.2/lib64:\n",
      "2022-11-16 21:55:40.635903: I tensorflow/stream_executor/platform/default/dso_loader.cc:49] Successfully opened dynamic library libcusparse.so.11\n",
      "2022-11-16 21:55:40.635922: I tensorflow/stream_executor/platform/default/dso_loader.cc:49] Successfully opened dynamic library libcudnn.so.8\n",
      "2022-11-16 21:55:40.635930: W tensorflow/core/common_runtime/gpu/gpu_device.cc:1757] Cannot dlopen some GPU libraries. Please make sure the missing libraries mentioned above are installed properly if you would like to use GPU. Follow the guide at https://www.tensorflow.org/install/gpu for how to download and setup the required libraries for your platform.\n",
      "Skipping registering GPU devices...\n",
      "2022-11-16 21:55:40.655135: I tensorflow/compiler/jit/xla_gpu_device.cc:99] Not creating XLA devices, tf_xla_enable_xla_devices not set\n",
      "2022-11-16 21:55:40.655229: I tensorflow/core/common_runtime/gpu/gpu_device.cc:1261] Device interconnect StreamExecutor with strength 1 edge matrix:\n",
      "2022-11-16 21:55:40.655235: I tensorflow/core/common_runtime/gpu/gpu_device.cc:1267]      \n"
     ]
    },
    {
     "data": {
      "text/plain": [
       "{'top1': 0.5}"
      ]
     },
     "execution_count": 8,
     "metadata": {},
     "output_type": "execute_result"
    }
   ],
   "source": [
    "import tensorflow as tf\n",
    "\n",
    "labels = tf.convert_to_tensor([0, 1, 2, 3])\n",
    "preds = tf.convert_to_tensor([0, 2, 1, 3])\n",
    "accuracy(preds, labels)"
   ]
  },
  {
   "cell_type": "markdown",
   "id": "5ff33ed0",
   "metadata": {},
   "source": [
    "MMEval 的评测指标提供了一些特定机器学习框架的指标计算实现，具体可以在[支持矩阵](https://mmeval.readthedocs.io/zh_CN/latest/get_started/support_matrix.html)中查看"
   ]
  },
  {
   "cell_type": "code",
   "execution_count": null,
   "id": "d679ac84",
   "metadata": {},
   "outputs": [],
   "source": []
  }
 ],
 "metadata": {
  "kernelspec": {
   "display_name": "Python 3 (ipykernel)",
   "language": "python",
   "name": "python3"
  },
  "language_info": {
   "codemirror_mode": {
    "name": "ipython",
    "version": 3
   },
   "file_extension": ".py",
   "mimetype": "text/x-python",
   "name": "python",
   "nbconvert_exporter": "python",
   "pygments_lexer": "ipython3",
   "version": "3.8.13"
  }
 },
 "nbformat": 4,
 "nbformat_minor": 5
}
